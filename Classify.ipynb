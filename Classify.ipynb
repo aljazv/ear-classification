{
 "cells": [
  {
   "cell_type": "code",
   "execution_count": 160,
   "metadata": {},
   "outputs": [],
   "source": [
    "from tensorflow.keras.applications.inception_v3 import InceptionV3, preprocess_input, decode_predictions\n",
    "from tensorflow.keras.preprocessing import image\n",
    "from tensorflow.keras.models import Model\n",
    "from tensorflow.keras.layers import Dense, GlobalAveragePooling2D\n",
    "from tensorflow.keras.callbacks import EarlyStopping\n",
    "from tensorflow.keras.preprocessing import image\n",
    "from PIL import ImageOps, Image\n",
    "import numpy as np\n",
    "\n",
    "import pandas as pd\n",
    "import json \n",
    "import tensorflow as tf\n",
    "from keras import utils\n",
    "import matplotlib.pyplot as plt\n",
    "from sklearn import metrics\n"
   ]
  },
  {
   "cell_type": "code",
   "execution_count": 2,
   "metadata": {},
   "outputs": [],
   "source": [
    "# my specific error/bug on gpu, dont run \n",
    "\n",
    "gpu_devices = tf.config.experimental.list_physical_devices('GPU')\n",
    "for device in gpu_devices:\n",
    "    tf.config.experimental.set_memory_growth(device, True)\n",
    "    tf.config.experimental.set_virtual_device_configuration(device, [tf.config.experimental.VirtualDeviceConfiguration(memory_limit=2548)])\n",
    "\n",
    "    "
   ]
  },
  {
   "cell_type": "code",
   "execution_count": 14,
   "metadata": {},
   "outputs": [
    {
     "data": {
      "text/plain": [
       "(array([ 11,   1,  12,   2,  13,  14,  15,  16,  17,  18,  19,  20,  21,\n",
       "         22,  23,   3,  24,  25,  26,  27,  28,  29,  30,  31,  32,  33,\n",
       "         34,  35,   4,  36,  37,  38,  39,  40,  41,  42,  43,  44,  45,\n",
       "         46,  47,   5,  48,  49,  50,  51,  52,  53,  54,  55,  56,  57,\n",
       "         58,  59,   6,  60,  61,  62,  63,  64,  65,  66,  68,  69,  70,\n",
       "         71,   7,  72,   8,  73,  74,  75,  76,  77,  78,  79,  80,  81,\n",
       "         82,  83,   9,  84,  85,  86,  87,  88,  89,  90,  91,  92,  93,\n",
       "         94,  95,  10,  96,  97,  98,  99, 100,  67]),\n",
       " Index(['AWE-Full image path', 'AWE image path', 'Subject ID'], dtype='object'))"
      ]
     },
     "execution_count": 14,
     "metadata": {},
     "output_type": "execute_result"
    }
   ],
   "source": [
    "df = pd.read_csv(\"awe-translation.csv\")\n",
    "df['AWE image path'] = df['AWE image path'].apply(lambda x: \"awe/\"+x )\n",
    "\n",
    "subjects = df[\"Subject ID\"].unique()\n",
    "subjects, df.columns\n"
   ]
  },
  {
   "cell_type": "code",
   "execution_count": null,
   "metadata": {},
   "outputs": [],
   "source": [
    "# add gender and ethnicity to dataframe\n",
    "def gender(image_path):\n",
    "    file = annotation_file(image_path)\n",
    "    \n",
    "    with open(file) as json_file: \n",
    "        data = json.load(json_file)\n",
    "        \n",
    "        if data[\"gender\"] == \"m\":\n",
    "            return 0\n",
    "        elif data[\"gender\"] == \"f\":\n",
    "            return 1\n",
    "        else:\n",
    "            raise Exception()\n",
    "            \n",
    "def ethnicity(image_path):\n",
    "    file = annotation_file(image_path)\n",
    "    \n",
    "    with open(file) as json_file: \n",
    "        data = json.load(json_file)\n",
    "        \n",
    "        return data[\"ethnicity\"]\n",
    "    \n",
    "def annotation_file(image_path):\n",
    "    image_path_split = image_path.split('/')\n",
    "    json_file = \"/\".join(image_path_split[:-1])\n",
    "    json_file += \"/annotations.json\"\n",
    "    return json_file\n",
    "\n",
    "df[\"gender\"] = df['AWE image path'].apply(lambda x: gender(x) )\n",
    "df[\"ethnicity\"] = df['AWE image path'].apply(lambda x: ethnicity(x) )\n",
    "\n",
    "# convert 99 -> 7\n",
    "df[\"ethnicity\"] = df[\"ethnicity\"].apply(lambda x: 7 if x == 99 else x)\n",
    "df.info()"
   ]
  },
  {
   "cell_type": "code",
   "execution_count": 189,
   "metadata": {},
   "outputs": [],
   "source": [
    "df_train = df[df['AWE-Full image path'].str.contains(\"train\")]\n",
    "df_test = df[df['AWE-Full image path'].str.contains(\"test\")]"
   ]
  },
  {
   "cell_type": "code",
   "execution_count": 190,
   "metadata": {},
   "outputs": [
    {
     "data": {
      "text/html": [
       "<div>\n",
       "<style scoped>\n",
       "    .dataframe tbody tr th:only-of-type {\n",
       "        vertical-align: middle;\n",
       "    }\n",
       "\n",
       "    .dataframe tbody tr th {\n",
       "        vertical-align: top;\n",
       "    }\n",
       "\n",
       "    .dataframe thead th {\n",
       "        text-align: right;\n",
       "    }\n",
       "</style>\n",
       "<table border=\"1\" class=\"dataframe\">\n",
       "  <thead>\n",
       "    <tr style=\"text-align: right;\">\n",
       "      <th></th>\n",
       "      <th>AWE-Full image path</th>\n",
       "      <th>AWE image path</th>\n",
       "      <th>Subject ID</th>\n",
       "      <th>gender</th>\n",
       "      <th>ethnicity</th>\n",
       "    </tr>\n",
       "  </thead>\n",
       "  <tbody>\n",
       "    <tr>\n",
       "      <th>250</th>\n",
       "      <td>train/0001.png</td>\n",
       "      <td>awe/100/10.png</td>\n",
       "      <td>100</td>\n",
       "      <td>0</td>\n",
       "      <td>1</td>\n",
       "    </tr>\n",
       "    <tr>\n",
       "      <th>251</th>\n",
       "      <td>train/0002.png</td>\n",
       "      <td>awe/010/04.png</td>\n",
       "      <td>10</td>\n",
       "      <td>0</td>\n",
       "      <td>1</td>\n",
       "    </tr>\n",
       "    <tr>\n",
       "      <th>252</th>\n",
       "      <td>train/0003.png</td>\n",
       "      <td>awe/011/02.png</td>\n",
       "      <td>11</td>\n",
       "      <td>0</td>\n",
       "      <td>2</td>\n",
       "    </tr>\n",
       "    <tr>\n",
       "      <th>253</th>\n",
       "      <td>train/0004.png</td>\n",
       "      <td>awe/011/03.png</td>\n",
       "      <td>11</td>\n",
       "      <td>0</td>\n",
       "      <td>2</td>\n",
       "    </tr>\n",
       "    <tr>\n",
       "      <th>254</th>\n",
       "      <td>train/0005.png</td>\n",
       "      <td>awe/011/04.png</td>\n",
       "      <td>11</td>\n",
       "      <td>0</td>\n",
       "      <td>2</td>\n",
       "    </tr>\n",
       "  </tbody>\n",
       "</table>\n",
       "</div>"
      ],
      "text/plain": [
       "    AWE-Full image path  AWE image path  Subject ID  gender  ethnicity\n",
       "250      train/0001.png  awe/100/10.png         100       0          1\n",
       "251      train/0002.png  awe/010/04.png          10       0          1\n",
       "252      train/0003.png  awe/011/02.png          11       0          2\n",
       "253      train/0004.png  awe/011/03.png          11       0          2\n",
       "254      train/0005.png  awe/011/04.png          11       0          2"
      ]
     },
     "execution_count": 190,
     "metadata": {},
     "output_type": "execute_result"
    }
   ],
   "source": [
    "df_train.head()"
   ]
  },
  {
   "cell_type": "code",
   "execution_count": 191,
   "metadata": {},
   "outputs": [
    {
     "data": {
      "text/plain": [
       "((1500, 8), (1500, 224, 224, 3), (250, 8), (250, 224, 224, 3))"
      ]
     },
     "execution_count": 191,
     "metadata": {},
     "output_type": "execute_result"
    }
   ],
   "source": [
    "# create X and y. we also create mirror images for better training\n",
    "\n",
    "# from label to hitbit conversion - it always assumes y consists of integers and not strings\n",
    "\n",
    "def from_hotbit(array):\n",
    "    \n",
    "    return np.argmax(array, axis=-1)\n",
    "\n",
    "def to_hotbit(array):\n",
    "    return utils.to_categorical(array)\n",
    "\n",
    "# dataf- dataframe, analyse_column - which column will be analised, is_train for training data\n",
    "def build_X_y(dataf, analyse_column , is_train=False):\n",
    "    images = []\n",
    "    images_mirror = []\n",
    "    for path in dataf[\"AWE image path\"]:\n",
    "        img_original = image.load_img(path, target_size=(224, 224))\n",
    "        # convert the image pixels to a numpy array\n",
    "        img = image.img_to_array(img_original)\n",
    "        # reshape data for the model\n",
    "        # prepare the image for the\n",
    "        img = preprocess_input(img)\n",
    "        images.append(img)\n",
    "\n",
    "        img_mirror = ImageOps.mirror(img_original)\n",
    "\n",
    "        img = image.img_to_array(img_original)\n",
    "        # reshape data for the model\n",
    "        # prepare the image for the\n",
    "        img = preprocess_input(img)\n",
    "        images_mirror.append(img)\n",
    "    \n",
    "    X = np.array(images)\n",
    "    X_mirror = np.array(images_mirror)\n",
    "    y = np.array(to_hotbit(dataf[analyse_column]))\n",
    "\n",
    "    if is_train:\n",
    "        X = np.concatenate((X, X_mirror))\n",
    "        y = np.concatenate((y, y))\n",
    "\n",
    "    return X, y\n",
    "\n",
    "\n",
    "use_on_column = \"ethnicity\"\n",
    "\n",
    "X_train, y_train = build_X_y(df_train, use_on_column, is_train=True)\n",
    "X_test, y_test = build_X_y(df_test, use_on_column, is_train=False)\n",
    "\n",
    "y_train.shape, X_train.shape, y_test.shape, X_test.shape"
   ]
  },
  {
   "cell_type": "code",
   "execution_count": 192,
   "metadata": {},
   "outputs": [],
   "source": [
    "\n",
    "# create the base pre-trained model\n",
    "base_model = InceptionV3(weights='imagenet', include_top=False)\n",
    "\n",
    "# add a global spatial average pooling layer\n",
    "x = base_model.output\n",
    "x = GlobalAveragePooling2D()(x)\n",
    "# let's add a fully-connected layer\n",
    "x = Dense(1024, activation='relu')(x)\n",
    "\n",
    "# and a logistic layer -- \n",
    "predictions = Dense(y_train.shape[1], activation='softmax')(x)\n",
    "\n",
    "# this is the model we will train\n",
    "model = Model(inputs=base_model.input, outputs=predictions)\n",
    "\n",
    "# first: train only the top layers (which were randomly initialized)\n",
    "# i.e. freeze all convolutional InceptionV3 layers\n",
    "for layer in base_model.layers:\n",
    "    layer.trainable = False\n",
    "\n",
    "# compile the model (should be done *after* setting layers to non-trainable)\n",
    "model.compile(optimizer='rmsprop', loss='categorical_crossentropy')\n",
    "\n"
   ]
  },
  {
   "cell_type": "code",
   "execution_count": 193,
   "metadata": {},
   "outputs": [
    {
     "name": "stdout",
     "output_type": "stream",
     "text": [
      "Epoch 1/100\n",
      "43/43 [==============================] - 7s 162ms/step - loss: 3.2293 - val_loss: 1.2270\n",
      "Epoch 2/100\n",
      "43/43 [==============================] - 6s 140ms/step - loss: 1.2405 - val_loss: 2.0222\n",
      "Epoch 3/100\n",
      "43/43 [==============================] - 6s 145ms/step - loss: 1.0081 - val_loss: 1.0625\n",
      "Epoch 4/100\n",
      "43/43 [==============================] - 6s 141ms/step - loss: 0.8534 - val_loss: 0.8036\n",
      "Epoch 5/100\n",
      "43/43 [==============================] - 6s 137ms/step - loss: 0.6751 - val_loss: 1.0990\n",
      "Epoch 6/100\n",
      "43/43 [==============================] - 6s 141ms/step - loss: 0.5078 - val_loss: 1.6904\n"
     ]
    }
   ],
   "source": [
    "es = EarlyStopping(monitor='val_loss', mode='min', patience=2)\n",
    "\n",
    "history = model.fit(X_train,y_train, validation_split=0.1, shuffle= True, epochs=100, callbacks=[es], batch_size=32)\n"
   ]
  },
  {
   "cell_type": "code",
   "execution_count": 194,
   "metadata": {},
   "outputs": [
    {
     "data": {
      "image/png": "[encoded data removed]",
      "text/plain": [
       "<Figure size 432x288 with 1 Axes>"
      ]
     },
     "metadata": {
      "needs_background": "light"
     },
     "output_type": "display_data"
    }
   ],
   "source": [
    "# summarize history for accuracy\n",
    "plt.plot(history.history['loss'])\n",
    "plt.plot(history.history['val_loss'])\n",
    "plt.title('model validation')\n",
    "plt.ylabel('loss')\n",
    "plt.xlabel('epoch')\n",
    "plt.legend(['train','validation'], loc='upper left')\n",
    "plt.show()"
   ]
  },
  {
   "cell_type": "code",
   "execution_count": 195,
   "metadata": {},
   "outputs": [
    {
     "name": "stdout",
     "output_type": "stream",
     "text": [
      "Epoch 1/100\n",
      "43/43 [==============================] - 8s 188ms/step - loss: 1.3318 - val_loss: 0.8438\n",
      "Epoch 2/100\n",
      "43/43 [==============================] - 7s 169ms/step - loss: 0.9022 - val_loss: 0.6712\n",
      "Epoch 3/100\n",
      "43/43 [==============================] - 7s 170ms/step - loss: 0.7199 - val_loss: 0.6423\n",
      "Epoch 4/100\n",
      "43/43 [==============================] - 8s 184ms/step - loss: 0.6321 - val_loss: 0.6486\n",
      "Epoch 5/100\n",
      "43/43 [==============================] - 7s 174ms/step - loss: 0.5772 - val_loss: 0.6428\n",
      "Epoch 6/100\n",
      "43/43 [==============================] - 7s 171ms/step - loss: 0.5330 - val_loss: 0.6275\n",
      "Epoch 7/100\n",
      "43/43 [==============================] - 7s 170ms/step - loss: 0.4877 - val_loss: 0.6091\n",
      "Epoch 8/100\n",
      "43/43 [==============================] - 7s 170ms/step - loss: 0.4595 - val_loss: 0.5808\n",
      "Epoch 9/100\n",
      "43/43 [==============================] - 7s 170ms/step - loss: 0.4120 - val_loss: 0.5556\n",
      "Epoch 10/100\n",
      "43/43 [==============================] - 7s 170ms/step - loss: 0.3885 - val_loss: 0.5286\n",
      "Epoch 11/100\n",
      "43/43 [==============================] - 7s 170ms/step - loss: 0.3514 - val_loss: 0.5018\n",
      "Epoch 12/100\n",
      "43/43 [==============================] - 7s 170ms/step - loss: 0.3185 - val_loss: 0.4764\n",
      "Epoch 13/100\n",
      "43/43 [==============================] - 7s 170ms/step - loss: 0.2986 - val_loss: 0.4472\n",
      "Epoch 14/100\n",
      "43/43 [==============================] - 7s 171ms/step - loss: 0.2697 - val_loss: 0.4230\n",
      "Epoch 15/100\n",
      "43/43 [==============================] - 7s 171ms/step - loss: 0.2458 - val_loss: 0.3963\n",
      "Epoch 16/100\n",
      "43/43 [==============================] - 7s 170ms/step - loss: 0.2286 - val_loss: 0.3708\n",
      "Epoch 17/100\n",
      "43/43 [==============================] - 7s 170ms/step - loss: 0.2173 - val_loss: 0.3484\n",
      "Epoch 18/100\n",
      "43/43 [==============================] - 7s 170ms/step - loss: 0.1960 - val_loss: 0.3293\n",
      "Epoch 19/100\n",
      "43/43 [==============================] - 7s 171ms/step - loss: 0.1798 - val_loss: 0.3082\n",
      "Epoch 20/100\n",
      "43/43 [==============================] - 7s 170ms/step - loss: 0.1638 - val_loss: 0.2912\n",
      "Epoch 21/100\n",
      "43/43 [==============================] - 7s 170ms/step - loss: 0.1503 - val_loss: 0.2725\n",
      "Epoch 22/100\n",
      "43/43 [==============================] - 7s 170ms/step - loss: 0.1400 - val_loss: 0.2540\n",
      "Epoch 23/100\n",
      "43/43 [==============================] - 7s 170ms/step - loss: 0.1317 - val_loss: 0.2389\n",
      "Epoch 24/100\n",
      "43/43 [==============================] - 7s 170ms/step - loss: 0.1226 - val_loss: 0.2228\n",
      "Epoch 25/100\n",
      "43/43 [==============================] - 7s 170ms/step - loss: 0.1151 - val_loss: 0.2103\n",
      "Epoch 26/100\n",
      "43/43 [==============================] - 7s 170ms/step - loss: 0.1059 - val_loss: 0.1981\n",
      "Epoch 27/100\n",
      "43/43 [==============================] - 7s 170ms/step - loss: 0.1013 - val_loss: 0.1856\n",
      "Epoch 28/100\n",
      "43/43 [==============================] - 7s 170ms/step - loss: 0.0948 - val_loss: 0.1748\n",
      "Epoch 29/100\n",
      "43/43 [==============================] - 7s 170ms/step - loss: 0.0903 - val_loss: 0.1646\n",
      "Epoch 30/100\n",
      "43/43 [==============================] - 7s 170ms/step - loss: 0.0825 - val_loss: 0.1563\n",
      "Epoch 31/100\n",
      "43/43 [==============================] - 7s 170ms/step - loss: 0.0774 - val_loss: 0.1478\n",
      "Epoch 32/100\n",
      "43/43 [==============================] - 7s 170ms/step - loss: 0.0723 - val_loss: 0.1399\n",
      "Epoch 33/100\n",
      "43/43 [==============================] - 7s 170ms/step - loss: 0.0724 - val_loss: 0.1331\n"
     ]
    }
   ],
   "source": [
    "\n",
    "# at this point, the top layers are well trained and we can start fine-tuning\n",
    "# convolutional layers from inception V3. We will freeze the bottom N layers\n",
    "# and train the remaining top layers.\n",
    "\n",
    "\n",
    "# we chose to train the top 2 inception blocks, i.e. we will freeze\n",
    "# the first 249 layers and unfreeze the rest:\n",
    "for layer in model.layers[:249]:\n",
    "    layer.trainable = False\n",
    "for layer in model.layers[249:]:\n",
    "    layer.trainable = True\n",
    "\n",
    "# we need to recompile the model for these modifications to take effect\n",
    "# we use SGD with a low learning rate\n",
    "from tensorflow.keras.optimizers import SGD\n",
    "model.compile(optimizer=SGD(lr=0.0001, momentum=0.9), loss='categorical_crossentropy')\n",
    "\n",
    "# we train our model again (this time fine-tuning the top 2 inception blocks\n",
    "# alongside the top Dense layers\n",
    "es = EarlyStopping(monitor='loss', mode='min', patience=1)\n",
    "\n",
    "history = model.fit(X_train,y_train, validation_split=0.1, shuffle= True, epochs=100, callbacks=[es], batch_size=32)"
   ]
  },
  {
   "cell_type": "code",
   "execution_count": 142,
   "metadata": {},
   "outputs": [
    {
     "data": {
      "text/plain": [
       "array([0., 0., 1., 1., 1., 1., 1., 1., 1., 1.])"
      ]
     },
     "execution_count": 142,
     "metadata": {},
     "output_type": "execute_result"
    }
   ],
   "source": [
    "\n",
    "\n",
    "def calculate_cmc(y_pred, y_test, num_ranks=10):\n",
    "\n",
    "    ranks = num_ranks\n",
    "    rank_scores = np.zeros(ranks)\n",
    "\n",
    "    for el_pred, el_true in zip(y_pred, y_test):   \n",
    "        for r in range(ranks):\n",
    "            r_max_val_ind = np.argsort(el_pred)[-(r+1):][0]\n",
    "            r_max_val = el_pred[r_max_val_ind]\n",
    "            correct_ranks = ((el_pred >= r_max_val) * 1)\n",
    "\n",
    "            yind = np.argmax(el_true, axis=-1)\n",
    "            if correct_ranks[yind] == 1:\n",
    "                rank_scores[r] += 1\n",
    "\n",
    "\n",
    "    rank_scores = rank_scores / y_pred.shape[0]\n",
    "    return rank_scores\n",
    "\n",
    "#y_pre = np.array([[0.2,0.4,0.6,0.8]])\n",
    "#y_tes = np.array([[0, 1, 0, 0]])\n",
    "#calculate_cmc(y_pre, y_tes)"
   ]
  },
  {
   "cell_type": "code",
   "execution_count": 243,
   "metadata": {},
   "outputs": [
    {
     "name": "stdout",
     "output_type": "stream",
     "text": [
      "rank1 score: 0.668\n",
      "rank5 score: 0.976\n"
     ]
    },
    {
     "data": {
      "image/png": "[encoded data removed]",
      "text/plain": [
       "<Figure size 720x576 with 1 Axes>"
      ]
     },
     "metadata": {
      "needs_background": "light"
     },
     "output_type": "display_data"
    }
   ],
   "source": [
    "y_pred = model.predict(X_test)\n",
    "\n",
    "\n",
    "\n",
    "ranks = 10\n",
    "scores = calculate_cmc(y_pred, y_test, num_ranks=ranks)\n",
    "\n",
    "plt.figure(figsize=(10,8))\n",
    "plt.plot(np.arange(1,ranks+1), scores*100)\n",
    "plt.title(\"CMC Curve\")\n",
    "plt.xlabel(\"Rank\")\n",
    "plt.xticks(np.arange(1,ranks+1))\n",
    "plt.ylabel(\"Score (%)\")\n",
    "print(\"rank1 score:\", scores[0])\n",
    "print(\"rank5 score:\", scores[4])\n",
    "\n"
   ]
  },
  {
   "cell_type": "code",
   "execution_count": 268,
   "metadata": {},
   "outputs": [
    {
     "name": "stdout",
     "output_type": "stream",
     "text": [
      "              precision    recall  f1-score   support\n",
      "\n",
      "           1       0.71      0.92      0.80       153\n",
      "           2       0.45      0.32      0.38        47\n",
      "           3       0.00      0.00      0.00         3\n",
      "           4       0.56      0.34      0.43        29\n",
      "           5       1.00      0.14      0.25         7\n",
      "           6       1.00      0.12      0.22         8\n",
      "           7       0.00      0.00      0.00         3\n",
      "\n",
      "    accuracy                           0.67       250\n",
      "   macro avg       0.53      0.26      0.30       250\n",
      "weighted avg       0.64      0.67      0.62       250\n",
      "\n",
      "(0.6448228477670103, 0.668, 0.6235728132387707, None)\n",
      "0.668\n"
     ]
    }
   ],
   "source": [
    "max_values = np.amax(y_pred, axis=1)\n",
    "# get hotbit value\n",
    "res = []\n",
    "for i in range(y_pred.shape[0]):\n",
    "    each_image_hotbit_pred = (max_values[i] == y_pred[i]) *1\n",
    "    res.append(each_image_hotbit_pred)\n",
    "\n",
    "y_pred_bi = np.array(res)\n",
    "\n",
    "y_pred_hot = from_hotbit(y_pred_bi)\n",
    "y_test_hot = from_hotbit(y_test)\n",
    "\n",
    "\n",
    "print(metrics.classification_report(y_test_hot, y_pred_hot))\n",
    "print(metrics.precision_recall_fscore_support(y_test_hot, y_pred_hot, average='weighted'))\n",
    "print(metrics.accuracy_score(y_test_hot, y_pred_hot))"
   ]
  }
 ],
 "metadata": {
  "kernelspec": {
   "display_name": "Python 3",
   "language": "python",
   "name": "python3"
  },
  "language_info": {
   "codemirror_mode": {
    "name": "ipython",
    "version": 3
   },
   "file_extension": ".py",
   "mimetype": "text/x-python",
   "name": "python",
   "nbconvert_exporter": "python",
   "pygments_lexer": "ipython3",
   "version": "3.8.5"
  }
 },
 "nbformat": 4,
 "nbformat_minor": 4
}
